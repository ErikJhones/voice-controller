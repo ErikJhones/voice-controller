{
 "cells": [
  {
   "cell_type": "code",
   "execution_count": 1,
   "metadata": {},
   "outputs": [],
   "source": [
    "from vosk import Model, KaldiRecognizer\n",
    "import os\n",
    "import pyaudio\n",
    "import json\n",
    "import pyautogui\n",
    "\n",
    "import os"
   ]
  },
  {
   "cell_type": "code",
   "execution_count": 9,
   "metadata": {},
   "outputs": [
    {
     "name": "stdout",
     "output_type": "stream",
     "text": [
      "corra\n",
      "\n",
      "corra\n",
      "pare\n",
      "{\"text\": \"\"}\n"
     ]
    }
   ],
   "source": [
    "model = Model('model')\n",
    "rec = KaldiRecognizer(model, 16000)\n",
    "\n",
    "p = pyaudio.PyAudio()\n",
    "stream = p.open(format=pyaudio.paInt16, channels=1, rate=16000, input=True, frames_per_buffer=8000)\n",
    "stream.start_stream()\n",
    "a = ''\n",
    "\n",
    "while True:\n",
    "    data = stream.read(500) #4000\n",
    "    #print(data)\n",
    "    if len(data) == 0:\n",
    "        break\n",
    "    if rec.AcceptWaveform(data):\n",
    "        #a = rec.Result()\n",
    "        d = json.loads(rec.Result())['text']\n",
    "        #d['text']\n",
    "        print(d)\n",
    "        controlar(d)\n",
    "        \n",
    "        if d == 'pare':\n",
    "            break\n",
    "        #if \n",
    "    #else:\n",
    "    #print(rec.PartialResult())\n",
    "\n",
    "print(rec.FinalResult())\n"
   ]
  },
  {
   "cell_type": "code",
   "execution_count": null,
   "metadata": {},
   "outputs": [],
   "source": [
    "beep = lambda x: os.system(\"echo -n 'a\\';sleep 0.2;\" * x)\n",
    "beep(5)"
   ]
  },
  {
   "cell_type": "code",
   "execution_count": 6,
   "metadata": {},
   "outputs": [],
   "source": [
    "def controlar(comando):\n",
    "    if comando == 'cima' or comando == 'salte' or comando == 'saltar' or comando == 'subir':\n",
    "        #pyautogui.hotkey('ctrl', 'a')\n",
    "        pyautogui.keyDown('a')\n",
    "        \n",
    "        \n",
    "    elif comando == 'apertar' or comando == 'pressione' or comando == 'pressionar':\n",
    "        pyautogui.keyDown('shift')\n",
    "        pyautogui.press('down')\n",
    "        pyautogui.keyUp('shift')\n",
    "        \n",
    "    elif comando == 'falar' or comando == 'fale' or comando == 'conversar':\n",
    "        pyautogui.keyDown('shift')\n",
    "        pyautogui.press('up')\n",
    "        pyautogui.keyUp('shift')\n",
    "        \n",
    "    elif comando == 'baixo':\n",
    "        '''pyautogui.keyDown('shift')\n",
    "        pyautogui.press('l')\n",
    "        pyautogui.keyUp('shift')'''\n",
    "        pyautogui.keyUp('right')\n",
    "        pyautogui.keyUp('left')\n",
    "        \n",
    "    elif comando == 'esquerda':\n",
    "        pyautogui.keyUp('a')\n",
    "        pyautogui.keyDown('left')\n",
    "        pyautogui.press('left')\n",
    "        pyautogui.keyUp('left')\n",
    "        \n",
    "    elif comando == 'direita':\n",
    "        pyautogui.keyUp('a')\n",
    "        '''pyautogui.keyDown('right')\n",
    "        pyautogui.press('right')\n",
    "        pyautogui.keyUp('right')'''\n",
    "        pyautogui.press('right', presses=3)\n",
    "        \n",
    "    elif comando == 'corra' or comando == 'correr':\n",
    "        pyautogui.keyDown('shift')\n",
    "        pyautogui.press('l')\n",
    "        pyautogui.keyUp('shift')\n",
    "        \n",
    "    elif comando == 'virar' or comando == 'vire':\n",
    "        pyautogui.keyDown('shift')\n",
    "        pyautogui.press('l')\n",
    "        pyautogui.keyUp('shift')\n",
    "    \n",
    "    elif comando == 'copiar':\n",
    "        pyautogui.hotkey('ctrl', 'c')\n",
    "        os.system('play --no-show-progress --null --channels 1 synth %s sine %f' %( 0.1, 400))\n",
    "        \n",
    "    elif comando == 'colar':\n",
    "        pyautogui.hotkey('ctrl', 'v')\n",
    "        "
   ]
  },
  {
   "cell_type": "code",
   "execution_count": null,
   "metadata": {},
   "outputs": [],
   "source": [
    "import json\n",
    "h = '{\"foo\":\"bar\", \"foo2\":\"bar2\"}'\n",
    "d = json.loads(a)\n",
    "d['text']"
   ]
  },
  {
   "cell_type": "code",
   "execution_count": null,
   "metadata": {},
   "outputs": [],
   "source": [
    "'''cima\n",
    "baixo\n",
    "esquerda\n",
    "direita\n",
    "frente\n",
    "corra\n",
    "correr\n",
    "trás\n",
    "pega\n",
    "pare\n",
    "andando\n",
    "correndo\n",
    "solte\n",
    "saltar\n",
    "virar'''"
   ]
  },
  {
   "cell_type": "code",
   "execution_count": null,
   "metadata": {},
   "outputs": [],
   "source": [
    "import pyautogui\n",
    "pyautogui.keyDown('shift')\n",
    "pyautogui.press('l')\n",
    "\n",
    "pyautogui.keyUp('shift') "
   ]
  },
  {
   "cell_type": "code",
   "execution_count": null,
   "metadata": {},
   "outputs": [],
   "source": [
    "import pyautogui\n",
    "import time\n",
    "a = pyautogui.position()\n",
    "pyautogui.click(a[0],a[1]);pyautogui.typewrite('graphicsnotes');pyautogui.press('enter')\n",
    "time.sleep(2)\n",
    "for i in range(1):\n",
    "    pyautogui.press('right');pyautogui.press('enter')\n",
    "    pyautogui.hotkey('ctrl','r');pyautogui.hotkey('ctrl','s')\n",
    "    time.sleep(2)\n",
    "    pyautogui.press('esc')\n",
    "    time.sleep(2)\n",
    "    time.sleep(2)"
   ]
  },
  {
   "cell_type": "code",
   "execution_count": null,
   "metadata": {},
   "outputs": [],
   "source": [
    "GRAphicsnotes\n",
    "\n",
    "    time.sleep(2)"
   ]
  },
  {
   "cell_type": "code",
   "execution_count": null,
   "metadata": {},
   "outputs": [],
   "source": [
    "pyautogui.typewrite('Hello World!')"
   ]
  },
  {
   "cell_type": "code",
   "execution_count": null,
   "metadata": {},
   "outputs": [],
   "source": [
    "pyautogui.keyUp('shift') "
   ]
  },
  {
   "cell_type": "code",
   "execution_count": null,
   "metadata": {},
   "outputs": [],
   "source": [
    "https://pyautogui.readthedocs.io/en/latest/keyboard.html"
   ]
  }
 ],
 "metadata": {
  "kernelspec": {
   "display_name": "Python 3",
   "language": "python",
   "name": "python3"
  },
  "language_info": {
   "codemirror_mode": {
    "name": "ipython",
    "version": 3
   },
   "file_extension": ".py",
   "mimetype": "text/x-python",
   "name": "python",
   "nbconvert_exporter": "python",
   "pygments_lexer": "ipython3",
   "version": "3.6.9"
  }
 },
 "nbformat": 4,
 "nbformat_minor": 4
}
